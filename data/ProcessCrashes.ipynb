{
 "cells": [
  {
   "cell_type": "markdown",
   "metadata": {
    "tags": []
   },
   "source": [
    "# Crashes to JSON\n",
    "\n",
    "Use `Data Query Tool` to create a new export from UCONN Crashes\n",
    "https://www.ctcrash.uconn.edu/QueryTool2.action\n",
    "\n",
    "* Since the tool does not let you export large datasets (over 90,000 persons), export multiple times for different time periods and specify all export IDs in the `exports` list below.\n",
    "\n",
    "This notebook combines data from two tables (0 and 2) into a small JSON file and a CSV file (same content, different formats), which is an array of objects that look like this:\n",
    "```js\n",
    "{\n",
    "    \"id\": 770826,    // crash id (used to pull the diagram)\n",
    "    \"x\": 41.73936,   // latitude\n",
    "    \"y\": -72.66404,  // longitude\n",
    "    \"k\": 1/1/2020    ///date for crash \n",
    "    \"d\": 1593820800, // timestamp\n",
    "    \"t\": 09:41:00    // time of crash\n",
    "    \"s\": 0,          //// Most Sever Injury\n",
    "    \"r\": 1,          // route class (1=Interstate, 2=USRoute, 3=State, 4=Local)\n",
    "    \"p\": 0,          // involves a pedestrian or other pedestrian? (1=true, 0=false)\n",
    "    \"c\": 0,          // involves a cyclist or other cyclist? (1=true, 0=false)\n",
    "    \"to\": 0          /// total other injuries (minor) \n",
    "    \"ts\": 0          /// total serious injuries\n",
    "    \"tf\": 0          /// total fatal injuries\n",
    "```\n",
    "\n",
    "Note: the timestamp `d` needs to be multiplied by `100,000` for a proper JS timestamp."
   ]
  },
  {
   "cell_type": "code",
   "execution_count": 21,
   "metadata": {},
   "outputs": [],
   "source": [
    "# Importing in Panda Library used for data manipulation and analysis\n",
    "import pandas as pd"
   ]
  },
  {
   "cell_type": "code",
   "execution_count": 22,
   "metadata": {},
   "outputs": [],
   "source": [
    "# Setting name of folder that raw data is in\n",
    "exports = ['40996']"
   ]
  },
  {
   "cell_type": "markdown",
   "metadata": {},
   "source": [
    "### Import roles from table 2"
   ]
  },
  {
   "cell_type": "code",
   "execution_count": 23,
   "metadata": {},
   "outputs": [],
   "source": [
    "total_dfs = []\n",
    "\n",
    "# Iterating through export_xxxxx_2.csv (roles) file and creates new array of data only from CrashID and Person Type\n",
    "for export in exports:\n",
    "    df = pd.read_csv(\n",
    "        f'export_{export}/export_{export}_2.csv',\n",
    "        skiprows=1,\n",
    "        usecols=['CrashId', 'Injury Status'],\n",
    "        encoding='ISO-8859-1'\n",
    "    )    \n",
    "    \n",
    "    \n",
    "    total_dfs.append( df ) # Adding two columns of data to new array \n",
    "\n",
    "totals = pd.concat(total_dfs).groupby(['CrashId'])['Injury Status'].unique() # Grouping data using two columns specified"
   ]
  },
  {
   "cell_type": "code",
   "execution_count": 24,
   "metadata": {},
   "outputs": [
    {
     "data": {
      "text/plain": [
       "CrashId\n",
       "2000          [O]\n",
       "2001          [O]\n",
       "2002          [O]\n",
       "2003          [O]\n",
       "2004          [O]\n",
       "2005     [nan, B]\n",
       "2006          [O]\n",
       "2007          [O]\n",
       "2008    [O, C, B]\n",
       "2009          [O]\n",
       "Name: Injury Status, dtype: object"
      ]
     },
     "execution_count": 24,
     "metadata": {},
     "output_type": "execute_result"
    }
   ],
   "source": [
    "totals.head(10)"
   ]
  },
  {
   "cell_type": "code",
   "execution_count": 25,
   "metadata": {},
   "outputs": [
    {
     "name": "stdout",
     "output_type": "stream",
     "text": [
      "       CrashId  Injury Status\n",
      "0         2000              2\n",
      "1         2001              1\n",
      "2         2002              1\n",
      "3         2003              2\n",
      "4         2004              3\n",
      "...        ...            ...\n",
      "13923  1014560              2\n",
      "13924  1014704              1\n",
      "13925  1014706              3\n",
      "13926  1015010              0\n",
      "13927  1015532              0\n",
      "\n",
      "[13928 rows x 2 columns]\n"
     ]
    }
   ],
   "source": [
    "currentId = df['CrashId'][0]\n",
    "col1 = []\n",
    "col2 = []\n",
    "countO = 0\n",
    "for ind in df.index:\n",
    "    if df['CrashId'][ind] == currentId:\n",
    "        if df['Injury Status'][ind] == \"O\":\n",
    "            countO = countO +  1\n",
    "    else:\n",
    "        col1.append(df['CrashId'][ind - 1])\n",
    "        col2.append(countO)\n",
    "        currentId = df['CrashId'][ind]\n",
    "        if df['Injury Status'][ind] == \"O\":\n",
    "            countO = 0\n",
    "            countO = countO +  1\n",
    "        else:\n",
    "            countO = 0\n",
    "#print(col1)\n",
    "#print(col2)\n",
    "d = {'CrashId': col1, 'Injury Status': col2 }\n",
    "totalsO = pd.DataFrame(data=d)\n",
    "print(totalsO)"
   ]
  },
  {
   "cell_type": "code",
   "execution_count": 26,
   "metadata": {},
   "outputs": [
    {
     "name": "stdout",
     "output_type": "stream",
     "text": [
      "       CrashId  Injury Status\n",
      "0         2000              0\n",
      "1         2001              1\n",
      "2         2002              1\n",
      "3         2003              1\n",
      "4         2004              1\n",
      "...        ...            ...\n",
      "13923  1014560              1\n",
      "13924  1014704              1\n",
      "13925  1014706              1\n",
      "13926  1015010              0\n",
      "13927  1015532              0\n",
      "\n",
      "[13928 rows x 2 columns]\n"
     ]
    }
   ],
   "source": [
    "currentId = df['CrashId'][0]\n",
    "col1 = []\n",
    "col2 = []\n",
    "countK = 0\n",
    "for ind in df.index:\n",
    "    if df['CrashId'][ind] == currentId:\n",
    "        if df['Injury Status'][ind] == \"K\":\n",
    "            countK = countK +  1\n",
    "    else:\n",
    "        col1.append(df['CrashId'][ind - 1])\n",
    "        col2.append(countK)\n",
    "        currentId = df['CrashId'][ind]\n",
    "        if df['Injury Status'][ind] == \"K\":\n",
    "            countK = 0\n",
    "            countK = countK +  1\n",
    "        else:\n",
    "            countK = 0\n",
    "#print(col1)\n",
    "#print(col2)\n",
    "d = {'CrashId': col1, 'Injury Status': col2 }\n",
    "totalsK = pd.DataFrame(data=d)\n",
    "print(totalsK)"
   ]
  },
  {
   "cell_type": "code",
   "execution_count": 380,
   "metadata": {},
   "outputs": [],
   "source": [
    "roles_dfs = []\n",
    "\n",
    "# Iterating through export_xxxxx_2.csv (roles) file and creates new array of data only from CrashID and Person Type\n",
    "for export in exports:\n",
    "    df = pd.read_csv(\n",
    "        f'export_{export}/export_{export}_2.csv',\n",
    "        skiprows=1,\n",
    "        usecols=['CrashId', 'Person Type'],\n",
    "        encoding='ISO-8859-1'\n",
    "    )    \n",
    "    roles_dfs.append( df ) # Adding two columns of data to new array \n",
    "\n",
    "roles = pd.concat(roles_dfs).groupby(['CrashId'])['Person Type'].unique()# Grouping data using two columns specified"
   ]
  },
  {
   "cell_type": "code",
   "execution_count": 358,
   "metadata": {},
   "outputs": [
    {
     "data": {
      "text/plain": [
       "CrashId\n",
       "2000       [1]\n",
       "2001       [1]\n",
       "2002       [1]\n",
       "2003       [1]\n",
       "2004    [1, 2]\n",
       "2005    [9, 1]\n",
       "2006       [1]\n",
       "2007       [1]\n",
       "2008    [2, 1]\n",
       "2009    [2, 1]\n",
       "Name: Person Type, dtype: object"
      ]
     },
     "execution_count": 358,
     "metadata": {},
     "output_type": "execute_result"
    }
   ],
   "source": [
    "roles.head(10)"
   ]
  },
  {
   "cell_type": "markdown",
   "metadata": {},
   "source": [
    "### Import crashes from table 0"
   ]
  },
  {
   "cell_type": "code",
   "execution_count": 359,
   "metadata": {},
   "outputs": [],
   "source": [
    "crashes_dfs = []\n",
    "\n",
    "# Iterating through export_xxxxx_0.csv (crashes) file and creates new array of data using following categories:\n",
    "#'CrashId', 'Latitude', 'Longitude', 'Date Of Crash', 'Time of Crash', 'Most Severity', 'Route Class'\n",
    "for export in exports:\n",
    "    df = pd.read_csv(\n",
    "        f'export_{export}/export_{export}_0.csv',\n",
    "        skiprows=1,\n",
    "        usecols=['CrashId', 'Latitude', 'Longitude', 'Date Of Crash',\n",
    "                 'Time of Crash', 'Most Severe Injury', 'Route Class']\n",
    "    )\n",
    "    df['Date Place Holder'] = df.loc[:, 'Date Of Crash'] # Adding duplicate column of date as last column to be used for new CSV\n",
    "    df = df[['CrashId', 'Latitude', 'Longitude', 'Date Of Crash', 'Date Place Holder',\n",
    "                 'Time of Crash', 'Most Severe Injury', 'Route Class']] # Rearranging Columns so that dates are next to eachother\n",
    "    crashes_dfs.append( df ) \n",
    "    \n",
    "   \n",
    "    \n",
    "crashes = pd.concat(crashes_dfs) # Grouping data using 8 columns specified "
   ]
  },
  {
   "cell_type": "markdown",
   "metadata": {},
   "source": [
    "### Merge data and save to .json and .csv"
   ]
  },
  {
   "cell_type": "code",
   "execution_count": 360,
   "metadata": {},
   "outputs": [
    {
     "data": {
      "text/html": [
       "<div>\n",
       "<style scoped>\n",
       "    .dataframe tbody tr th:only-of-type {\n",
       "        vertical-align: middle;\n",
       "    }\n",
       "\n",
       "    .dataframe tbody tr th {\n",
       "        vertical-align: top;\n",
       "    }\n",
       "\n",
       "    .dataframe thead th {\n",
       "        text-align: right;\n",
       "    }\n",
       "</style>\n",
       "<table border=\"1\" class=\"dataframe\">\n",
       "  <thead>\n",
       "    <tr style=\"text-align: right;\">\n",
       "      <th></th>\n",
       "      <th>CrashId</th>\n",
       "      <th>Latitude</th>\n",
       "      <th>Longitude</th>\n",
       "      <th>Date Of Crash</th>\n",
       "      <th>Date Place Holder</th>\n",
       "      <th>Time of Crash</th>\n",
       "      <th>Most Severe Injury</th>\n",
       "      <th>Route Class</th>\n",
       "    </tr>\n",
       "  </thead>\n",
       "  <tbody>\n",
       "    <tr>\n",
       "      <th>0</th>\n",
       "      <td>2000</td>\n",
       "      <td>41.754402</td>\n",
       "      <td>-72.736591</td>\n",
       "      <td>2015-01-02</td>\n",
       "      <td>2015-01-02</td>\n",
       "      <td>09:41:00</td>\n",
       "      <td>O</td>\n",
       "      <td>4.0</td>\n",
       "    </tr>\n",
       "    <tr>\n",
       "      <th>1</th>\n",
       "      <td>2001</td>\n",
       "      <td>41.724997</td>\n",
       "      <td>-72.759667</td>\n",
       "      <td>2015-01-01</td>\n",
       "      <td>2015-01-01</td>\n",
       "      <td>18:00:00</td>\n",
       "      <td>O</td>\n",
       "      <td>NaN</td>\n",
       "    </tr>\n",
       "    <tr>\n",
       "      <th>2</th>\n",
       "      <td>2002</td>\n",
       "      <td>41.724880</td>\n",
       "      <td>-72.740740</td>\n",
       "      <td>2015-01-03</td>\n",
       "      <td>2015-01-03</td>\n",
       "      <td>09:42:00</td>\n",
       "      <td>O</td>\n",
       "      <td>4.0</td>\n",
       "    </tr>\n",
       "    <tr>\n",
       "      <th>3</th>\n",
       "      <td>2003</td>\n",
       "      <td>41.762320</td>\n",
       "      <td>-72.740570</td>\n",
       "      <td>2015-01-03</td>\n",
       "      <td>2015-01-03</td>\n",
       "      <td>12:05:00</td>\n",
       "      <td>O</td>\n",
       "      <td>4.0</td>\n",
       "    </tr>\n",
       "    <tr>\n",
       "      <th>4</th>\n",
       "      <td>2004</td>\n",
       "      <td>41.752930</td>\n",
       "      <td>-72.743672</td>\n",
       "      <td>2015-01-03</td>\n",
       "      <td>2015-01-03</td>\n",
       "      <td>14:49:00</td>\n",
       "      <td>O</td>\n",
       "      <td>4.0</td>\n",
       "    </tr>\n",
       "  </tbody>\n",
       "</table>\n",
       "</div>"
      ],
      "text/plain": [
       "   CrashId   Latitude  Longitude Date Of Crash Date Place Holder  \\\n",
       "0     2000  41.754402 -72.736591    2015-01-02        2015-01-02   \n",
       "1     2001  41.724997 -72.759667    2015-01-01        2015-01-01   \n",
       "2     2002  41.724880 -72.740740    2015-01-03        2015-01-03   \n",
       "3     2003  41.762320 -72.740570    2015-01-03        2015-01-03   \n",
       "4     2004  41.752930 -72.743672    2015-01-03        2015-01-03   \n",
       "\n",
       "  Time of Crash Most Severe Injury  Route Class  \n",
       "0      09:41:00                  O          4.0  \n",
       "1      18:00:00                  O          NaN  \n",
       "2      09:42:00                  O          4.0  \n",
       "3      12:05:00                  O          4.0  \n",
       "4      14:49:00                  O          4.0  "
      ]
     },
     "execution_count": 360,
     "metadata": {},
     "output_type": "execute_result"
    }
   ],
   "source": [
    "crashes.head() "
   ]
  },
  {
   "cell_type": "markdown",
   "metadata": {},
   "source": [
    "### Filter Data From Exports 0 and 2 to create Smaller CSV and JSON File"
   ]
  },
  {
   "cell_type": "code",
   "execution_count": 361,
   "metadata": {},
   "outputs": [],
   "source": [
    "# Rename columns to make JSON output smaller\n",
    "crashes.columns = ['id', 'x', 'y', 'k', 'd', 't', 's', 'r']\n",
    "\n",
    "# Transforming datestamp into timestap \n",
    "crashes.d = crashes.d.apply(lambda x: int(pd.to_datetime(x).timestamp() / 100))\n",
    "crashes.t = crashes.t.apply(lambda x: x[:-3])\n",
    "\n",
    "# Setting up pedestrian and cyclist flags to CSV, adds a 1(true) or 0(false) for pedestrain or cyclist column \n",
    "# 3 is person type code for Pedestrain, 4 is Other Pedestrain \n",
    "# 5 is person type code for Cyclist, 100 is placeholder for when we find Other Cyclist Code \n",
    "crashes['p'] = crashes.id.apply(lambda x: 1 if x in roles and ( 3 in roles[x] or 4 in roles[x]) else 0) \n",
    "crashes['c'] = crashes.id.apply(lambda x: 1 if x in roles and ( 5 in roles[x] or 100 in roles[x]) else 0)\n",
    "\n",
    "\n",
    "#crashes['ts'] = crashes.id.apply(lambda x: + 1 if x in totals and ('A' in totals[x]) else 0)\n",
    "#crashes['to'] = crashes.id.apply(lambda x: + 1 if x in totals and ('O' in totals[x]) else 0)\n",
    "#crashes['to'] = crashes.id.apply(lambda x: + 1 if x in totals and ('B' in totals[x]) else 0)\n",
    "#crashes['to'] = crashes.id.apply(lambda x: + 1 if x in totals and ('C' in totals[x]) else 0)\n",
    "\n"
   ]
  },
  {
   "cell_type": "code",
   "execution_count": 362,
   "metadata": {},
   "outputs": [],
   "source": [
    "# Save as JSON\n",
    "crashes.to_json('./crashes.json', orient='records', double_precision=5)\n",
    "\n",
    "# Save as CSV\n",
    "crashes.to_csv('crashes.csv', index=False)"
   ]
  },
  {
   "cell_type": "code",
   "execution_count": 363,
   "metadata": {},
   "outputs": [
    {
     "data": {
      "text/html": [
       "<div>\n",
       "<style scoped>\n",
       "    .dataframe tbody tr th:only-of-type {\n",
       "        vertical-align: middle;\n",
       "    }\n",
       "\n",
       "    .dataframe tbody tr th {\n",
       "        vertical-align: top;\n",
       "    }\n",
       "\n",
       "    .dataframe thead th {\n",
       "        text-align: right;\n",
       "    }\n",
       "</style>\n",
       "<table border=\"1\" class=\"dataframe\">\n",
       "  <thead>\n",
       "    <tr style=\"text-align: right;\">\n",
       "      <th></th>\n",
       "      <th>id</th>\n",
       "      <th>x</th>\n",
       "      <th>y</th>\n",
       "      <th>k</th>\n",
       "      <th>d</th>\n",
       "      <th>t</th>\n",
       "      <th>s</th>\n",
       "      <th>r</th>\n",
       "      <th>p</th>\n",
       "      <th>c</th>\n",
       "    </tr>\n",
       "  </thead>\n",
       "  <tbody>\n",
       "    <tr>\n",
       "      <th>0</th>\n",
       "      <td>2000</td>\n",
       "      <td>41.754402</td>\n",
       "      <td>-72.736591</td>\n",
       "      <td>2015-01-02</td>\n",
       "      <td>14201568</td>\n",
       "      <td>09:41</td>\n",
       "      <td>O</td>\n",
       "      <td>4.0</td>\n",
       "      <td>0</td>\n",
       "      <td>0</td>\n",
       "    </tr>\n",
       "    <tr>\n",
       "      <th>1</th>\n",
       "      <td>2001</td>\n",
       "      <td>41.724997</td>\n",
       "      <td>-72.759667</td>\n",
       "      <td>2015-01-01</td>\n",
       "      <td>14200704</td>\n",
       "      <td>18:00</td>\n",
       "      <td>O</td>\n",
       "      <td>NaN</td>\n",
       "      <td>0</td>\n",
       "      <td>0</td>\n",
       "    </tr>\n",
       "    <tr>\n",
       "      <th>2</th>\n",
       "      <td>2002</td>\n",
       "      <td>41.724880</td>\n",
       "      <td>-72.740740</td>\n",
       "      <td>2015-01-03</td>\n",
       "      <td>14202432</td>\n",
       "      <td>09:42</td>\n",
       "      <td>O</td>\n",
       "      <td>4.0</td>\n",
       "      <td>0</td>\n",
       "      <td>0</td>\n",
       "    </tr>\n",
       "    <tr>\n",
       "      <th>3</th>\n",
       "      <td>2003</td>\n",
       "      <td>41.762320</td>\n",
       "      <td>-72.740570</td>\n",
       "      <td>2015-01-03</td>\n",
       "      <td>14202432</td>\n",
       "      <td>12:05</td>\n",
       "      <td>O</td>\n",
       "      <td>4.0</td>\n",
       "      <td>0</td>\n",
       "      <td>0</td>\n",
       "    </tr>\n",
       "    <tr>\n",
       "      <th>4</th>\n",
       "      <td>2004</td>\n",
       "      <td>41.752930</td>\n",
       "      <td>-72.743672</td>\n",
       "      <td>2015-01-03</td>\n",
       "      <td>14202432</td>\n",
       "      <td>14:49</td>\n",
       "      <td>O</td>\n",
       "      <td>4.0</td>\n",
       "      <td>0</td>\n",
       "      <td>0</td>\n",
       "    </tr>\n",
       "  </tbody>\n",
       "</table>\n",
       "</div>"
      ],
      "text/plain": [
       "     id          x          y           k         d      t  s    r  p  c\n",
       "0  2000  41.754402 -72.736591  2015-01-02  14201568  09:41  O  4.0  0  0\n",
       "1  2001  41.724997 -72.759667  2015-01-01  14200704  18:00  O  NaN  0  0\n",
       "2  2002  41.724880 -72.740740  2015-01-03  14202432  09:42  O  4.0  0  0\n",
       "3  2003  41.762320 -72.740570  2015-01-03  14202432  12:05  O  4.0  0  0\n",
       "4  2004  41.752930 -72.743672  2015-01-03  14202432  14:49  O  4.0  0  0"
      ]
     },
     "execution_count": 363,
     "metadata": {},
     "output_type": "execute_result"
    }
   ],
   "source": [
    "crashes.head() "
   ]
  },
  {
   "cell_type": "markdown",
   "metadata": {},
   "source": [
    "### Just custom calculations – not needed for processing"
   ]
  },
  {
   "cell_type": "raw",
   "metadata": {},
   "source": [
    "test = crashes.copy().rename(columns={'Date Of Crash': 'date'})\n",
    "\n",
    "test['mo'] = test.date.apply(lambda x: x[5:7])\n",
    "test['year'] = test.date.apply(lambda x: x[:4])\n",
    "\n",
    "test.head()"
   ]
  },
  {
   "cell_type": "raw",
   "metadata": {},
   "source": [
    "test['road'] = test['Route Class'].apply(lambda x: 'interstate' if x == 1 else 'local')\n",
    "\n",
    "test.groupby(['Crash Severity', 'road']).size()"
   ]
  },
  {
   "cell_type": "raw",
   "metadata": {},
   "source": [
    "test[ (test.date >= '2019-01-01') & (test.date <= '2019-12-31') & (test['Route Class'] >= 0 )].groupby(['Crash Severity']).count()"
   ]
  },
  {
   "cell_type": "code",
   "execution_count": null,
   "metadata": {},
   "outputs": [],
   "source": []
  },
  {
   "cell_type": "code",
   "execution_count": null,
   "metadata": {},
   "outputs": [],
   "source": []
  },
  {
   "cell_type": "code",
   "execution_count": null,
   "metadata": {},
   "outputs": [],
   "source": []
  },
  {
   "cell_type": "code",
   "execution_count": null,
   "metadata": {},
   "outputs": [],
   "source": []
  },
  {
   "cell_type": "code",
   "execution_count": null,
   "metadata": {},
   "outputs": [],
   "source": []
  },
  {
   "cell_type": "code",
   "execution_count": null,
   "metadata": {},
   "outputs": [],
   "source": []
  },
  {
   "cell_type": "code",
   "execution_count": null,
   "metadata": {},
   "outputs": [],
   "source": []
  },
  {
   "cell_type": "code",
   "execution_count": null,
   "metadata": {},
   "outputs": [],
   "source": []
  },
  {
   "cell_type": "code",
   "execution_count": null,
   "metadata": {},
   "outputs": [],
   "source": []
  }
 ],
 "metadata": {
  "kernelspec": {
   "display_name": "Python 3 (ipykernel)",
   "language": "python",
   "name": "python3"
  },
  "language_info": {
   "codemirror_mode": {
    "name": "ipython",
    "version": 3
   },
   "file_extension": ".py",
   "mimetype": "text/x-python",
   "name": "python",
   "nbconvert_exporter": "python",
   "pygments_lexer": "ipython3",
   "version": "3.9.13"
  }
 },
 "nbformat": 4,
 "nbformat_minor": 4
}
