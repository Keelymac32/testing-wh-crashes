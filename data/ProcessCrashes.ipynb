{
 "cells": [
  {
   "cell_type": "markdown",
   "metadata": {},
   "source": [
    "# Crashes to JSON\n",
    "\n",
    "Use `Data Query Tool` to create a new export from UCONN Crashes\n",
    "https://www.ctcrash.uconn.edu/QueryTool2.action\n",
    "\n",
    "* Since the tool does not let you export large datasets (over 90,000 persons), export multiple times for different time periods and specify all export IDs in the `exports` list below.\n",
    "\n",
    "This notebook combines data from two tables (0 and 2) into a small JSON file and a CSV file (same content, different formats), which is an array of objects that look like this:\n",
    "```js\n",
    "{\n",
    "    \"id\": 770826,    // crash id (used to pull the diagram)\n",
    "    \"x\": 41.73936,   // latitude\n",
    "    \"y\": -72.66404,  // longitude\n",
    "    \"d\": 1593820800, // timestamp\n",
    "    \"p\": 0,          // involves a pedestrian or other pedestrian? (1=true, 0=false)\n",
    "    \"c\": 0,          // involves a cyclist or other cyclist? (1=true, 0=false)\n",
    "    \"r\": 1,          // route class (1=Interstate, 2=USRoute, 3=State, 4=Local)\n",
    "    \"s\": 0,          // crash severity (O=no injuries, A=any injury, K=fatal)\n",
    "}\n",
    "```\n",
    "\n",
    "Note: the timestamp `d` needs to be multiplied by `100,000` for a proper JS timestamp."
   ]
  },
  {
   "cell_type": "code",
   "execution_count": 1,
   "metadata": {},
   "outputs": [],
   "source": [
    "import pandas as pd"
   ]
  },
  {
   "cell_type": "code",
   "execution_count": 2,
   "metadata": {},
   "outputs": [],
   "source": [
    "exports = ['40996']"
   ]
  },
  {
   "cell_type": "markdown",
   "metadata": {},
   "source": [
    "### Import roles from table 2"
   ]
  },
  {
   "cell_type": "code",
   "execution_count": 3,
   "metadata": {},
   "outputs": [],
   "source": [
    "roles_dfs = []\n",
    "\n",
    "for export in exports:\n",
    "    df = pd.read_csv(\n",
    "        f'export_{export}/export_{export}_2.csv',\n",
    "        skiprows=1,\n",
    "        usecols=['CrashId', 'Person Type Text Format'],\n",
    "        encoding='ISO-8859-1'\n",
    "    )\n",
    "    roles_dfs.append( df )\n",
    "\n",
    "roles = pd.concat(roles_dfs).groupby(['CrashId'])['Person Type Text Format'].unique()"
   ]
  },
  {
   "cell_type": "markdown",
   "metadata": {},
   "source": [
    "### Import crashes from table 0"
   ]
  },
  {
   "cell_type": "code",
   "execution_count": null,
   "metadata": {},
   "outputs": [],
   "source": [
    "crashes_dfs = []\n",
    "\n",
    "for export in exports:\n",
    "    df = pd.read_csv(\n",
    "        f'export_{export}/export_{export}_0.csv',\n",
    "        skiprows=1,\n",
    "        usecols=['CrashId', 'Latitude', 'Longitude', 'Date Of Crash',\n",
    "                 'Time of Crash', 'Crash Severity', 'Route Class']\n",
    "    )\n",
    "    crashes_dfs.append( df )\n",
    "    \n",
    "crashes = pd.concat(crashes_dfs)"
   ]
  },
  {
   "cell_type": "markdown",
   "metadata": {},
   "source": [
    "### Merge data and save to .json and .csv"
   ]
  },
  {
   "cell_type": "code",
   "execution_count": null,
   "metadata": {},
   "outputs": [],
   "source": [
    "crashes.head()"
   ]
  },
  {
   "cell_type": "markdown",
   "metadata": {},
   "source": [
    "### Just custom calculations – not needed for processing"
   ]
  },
  {
   "cell_type": "raw",
   "metadata": {},
   "source": [
    "test = crashes.copy().rename(columns={'Date Of Crash': 'date'})\n",
    "\n",
    "test['mo'] = test.date.apply(lambda x: x[5:7])\n",
    "test['year'] = test.date.apply(lambda x: x[:4])\n",
    "\n",
    "test.head()"
   ]
  },
  {
   "cell_type": "raw",
   "metadata": {},
   "source": [
    "test['road'] = test['Route Class'].apply(lambda x: 'interstate' if x == 1 else 'local')\n",
    "\n",
    "test.groupby(['Crash Severity', 'road']).size()"
   ]
  },
  {
   "cell_type": "raw",
   "metadata": {},
   "source": [
    "test[ (test.date >= '2019-01-01') & (test.date <= '2019-12-31') & (test['Route Class'] >= 0 )].groupby(['Crash Severity']).count()"
   ]
  },
  {
   "cell_type": "code",
   "execution_count": 1,
   "metadata": {},
   "outputs": [
    {
     "ename": "NameError",
     "evalue": "name 'crashes' is not defined",
     "output_type": "error",
     "traceback": [
      "\u001b[0;31m---------------------------------------------------------------------------\u001b[0m",
      "\u001b[0;31mNameError\u001b[0m                                 Traceback (most recent call last)",
      "\u001b[0;32m/var/folders/53/xd5qx5h512jfrnbczbzcrfvm0000gn/T/ipykernel_76433/1627503092.py\u001b[0m in \u001b[0;36m<module>\u001b[0;34m\u001b[0m\n\u001b[1;32m      1\u001b[0m \u001b[0;31m# Rename columns to make JSON output smaller\u001b[0m\u001b[0;34m\u001b[0m\u001b[0;34m\u001b[0m\u001b[0m\n\u001b[0;32m----> 2\u001b[0;31m \u001b[0mcrashes\u001b[0m\u001b[0;34m.\u001b[0m\u001b[0mcolumns\u001b[0m \u001b[0;34m=\u001b[0m \u001b[0;34m[\u001b[0m\u001b[0;34m'id'\u001b[0m\u001b[0;34m,\u001b[0m \u001b[0;34m'x'\u001b[0m\u001b[0;34m,\u001b[0m \u001b[0;34m'y'\u001b[0m\u001b[0;34m,\u001b[0m \u001b[0;34m'd'\u001b[0m\u001b[0;34m,\u001b[0m \u001b[0;34m't'\u001b[0m\u001b[0;34m,\u001b[0m \u001b[0;34m's'\u001b[0m\u001b[0;34m,\u001b[0m \u001b[0;34m'r'\u001b[0m\u001b[0;34m]\u001b[0m\u001b[0;34m\u001b[0m\u001b[0;34m\u001b[0m\u001b[0m\n\u001b[0m\u001b[1;32m      3\u001b[0m \u001b[0;34m\u001b[0m\u001b[0m\n\u001b[1;32m      4\u001b[0m \u001b[0;31m# Transform timestamps\u001b[0m\u001b[0;34m\u001b[0m\u001b[0;34m\u001b[0m\u001b[0m\n\u001b[1;32m      5\u001b[0m \u001b[0mcrashes\u001b[0m\u001b[0;34m.\u001b[0m\u001b[0md\u001b[0m \u001b[0;34m=\u001b[0m \u001b[0mcrashes\u001b[0m\u001b[0;34m.\u001b[0m\u001b[0md\u001b[0m\u001b[0;34m.\u001b[0m\u001b[0mapply\u001b[0m\u001b[0;34m(\u001b[0m\u001b[0;32mlambda\u001b[0m \u001b[0mx\u001b[0m\u001b[0;34m:\u001b[0m \u001b[0mint\u001b[0m\u001b[0;34m(\u001b[0m\u001b[0mpd\u001b[0m\u001b[0;34m.\u001b[0m\u001b[0mto_datetime\u001b[0m\u001b[0;34m(\u001b[0m\u001b[0mx\u001b[0m\u001b[0;34m)\u001b[0m\u001b[0;34m.\u001b[0m\u001b[0mtimestamp\u001b[0m\u001b[0;34m(\u001b[0m\u001b[0;34m)\u001b[0m \u001b[0;34m/\u001b[0m \u001b[0;36m100\u001b[0m\u001b[0;34m)\u001b[0m\u001b[0;34m)\u001b[0m\u001b[0;34m\u001b[0m\u001b[0;34m\u001b[0m\u001b[0m\n",
      "\u001b[0;31mNameError\u001b[0m: name 'crashes' is not defined"
     ]
    }
   ],
   "source": [
    "# Rename columns to make JSON output smaller\n",
    "crashes.columns = ['id', 'x', 'y', 'd', 't', 's', 'r']\n",
    "\n",
    "# Transform timestamps\n",
    "crashes.d = crashes.d.apply(lambda x: int(pd.to_datetime(x).timestamp() / 100))\n",
    "crashes.t = crashes.t.apply(lambda x: x[:-3])\n",
    "\n",
    "# Set up pedestrian and cyclist flags\n",
    "crashes['p'] = crashes.id.apply(lambda x: 1 if x in roles and 'Pedestrian' or 'Other Pedestrian' in roles[x] else 0)\n",
    "crashes['c'] = crashes.id.apply(lambda x: 1 if x in roles and 'Bicyclist' or 'Other Cyclist' in roles[x] else 0)"
   ]
  },
  {
   "cell_type": "code",
   "execution_count": null,
   "metadata": {},
   "outputs": [],
   "source": [
    "# Save as JSON\n",
    "crashes.to_json('./crashes.json', orient='records', double_precision=5)\n",
    "\n",
    "# Save as CSV\n",
    "crashes.to_csv('crashes.csv', index=False)"
   ]
  },
  {
   "cell_type": "code",
   "execution_count": null,
   "metadata": {},
   "outputs": [],
   "source": []
  },
  {
   "cell_type": "code",
   "execution_count": null,
   "metadata": {},
   "outputs": [],
   "source": []
  },
  {
   "cell_type": "code",
   "execution_count": null,
   "metadata": {},
   "outputs": [],
   "source": []
  },
  {
   "cell_type": "code",
   "execution_count": null,
   "metadata": {},
   "outputs": [],
   "source": []
  },
  {
   "cell_type": "code",
   "execution_count": null,
   "metadata": {},
   "outputs": [],
   "source": []
  }
 ],
 "metadata": {
  "kernelspec": {
   "display_name": "Python 3 (ipykernel)",
   "language": "python",
   "name": "python3"
  },
  "language_info": {
   "codemirror_mode": {
    "name": "ipython",
    "version": 3
   },
   "file_extension": ".py",
   "mimetype": "text/x-python",
   "name": "python",
   "nbconvert_exporter": "python",
   "pygments_lexer": "ipython3",
   "version": "3.9.13"
  }
 },
 "nbformat": 4,
 "nbformat_minor": 4
}
